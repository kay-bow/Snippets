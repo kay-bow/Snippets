{
  "nbformat": 4,
  "nbformat_minor": 0,
  "metadata": {
    "colab": {
      "name": "Kayleigh Penhall - SQLite introduction ps3",
      "provenance": [],
      "collapsed_sections": [],
      "include_colab_link": true
    },
    "kernelspec": {
      "name": "python3",
      "display_name": "Python 3"
    },
    "language_info": {
      "name": "python"
    }
  },
  "cells": [
    {
      "cell_type": "markdown",
      "metadata": {
        "id": "view-in-github",
        "colab_type": "text"
      },
      "source": [
        "<a href=\"https://colab.research.google.com/github/kay-bow/Snippets/blob/main/Kayleigh_Penhall_SQLite_introduction_ps3.ipynb\" target=\"_parent\"><img src=\"https://colab.research.google.com/assets/colab-badge.svg\" alt=\"Open In Colab\"/></a>"
      ]
    },
    {
      "cell_type": "code",
      "execution_count": null,
      "metadata": {
        "id": "tW1b27O9Dfk7"
      },
      "outputs": [],
      "source": [
        "# Run this first to download the database\n",
        "import os.path\n",
        "if not os.path.isfile('sampledata/pandas/ps3.db'):\n",
        "  !rm -rf sampledata\n",
        "  !git clone -qq https://github.com/awchisholm/sampledata.git"
      ]
    },
    {
      "cell_type": "code",
      "source": [
        "# https://docs.python.org/3/library/sqlite3.html for more details\n",
        "\n",
        "# This imports the sqlite python library \n",
        "import sqlite3\n",
        "\n",
        "# This makes nice looking prints\n",
        "from tabulate import tabulate\n",
        "\n",
        "# This connects to the ps3 database which is a single file\n",
        "con = sqlite3.connect('sampledata/pandas/ps3.db')\n",
        "\n",
        "# This gets a cursor into the database - think of this as a pointer\n",
        "cur = con.cursor()\n",
        "\n",
        "# Some queries - we will choose one to try\n",
        "q1 = \"select * from ps3\"\n",
        "q2 = \"select * from ps3 where Year = 2006\"\n",
        "q3 = \"select Genre from ps3 where Year = 2006\"\n",
        "q4 = \"select distinct Year from ps3\"\n",
        "q5 = \"select count(distinct Year) from ps3\"\n",
        "q6 = \"select * from ps3 where Year = 2006 order by Global_Sales desc\"\n",
        "q7 = \"select * from ps3 where Year = 2011 order by Global_Sales desc\"\n",
        "q8 = \"select *, 100*EU_Sales/Global_Sales as EUPercent from ps3\"\n",
        "q9 = \"select *, 100*EU_Sales/Global_Sales as EUPercent from ps3 where Year = 2011 and Global_Sales > 1 order by Global_Sales desc\"\n",
        "q10 = \"select * from ps3 order by Global_Sales desc limit 1\"\n",
        "q11 = \"select sum(Global_Sales) as TotalSales from ps3 where Publisher like '%Activision%' and Genre = 'Shooter'\"\n",
        "q12 = \"select sum(Global_Sales) as TotalSales from ps3 where Publisher = 'Activision' and Name like '%Call of Duty%'\"\n",
        "\n",
        "# Select some data using one of the queries\n",
        "cur.execute(q5)\n",
        "\n",
        "# Fetch all the results\n",
        "rows = cur.fetchall()\n",
        "\n",
        "print(tabulate(rows))\n",
        "\n",
        "# Close the connection if we are done with it.\n",
        "con.close()"
      ],
      "metadata": {
        "id": "hxnf9b65E-Bp",
        "colab": {
          "base_uri": "https://localhost:8080/"
        },
        "outputId": "3e1133f5-9d14-41ad-a161-896c6cb25263"
      },
      "execution_count": null,
      "outputs": [
        {
          "output_type": "stream",
          "name": "stdout",
          "text": [
            "--\n",
            "11\n",
            "--\n"
          ]
        }
      ]
    }
  ]
}